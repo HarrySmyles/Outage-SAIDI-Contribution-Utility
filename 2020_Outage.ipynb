{
 "cells": [
  {
   "cell_type": "code",
   "execution_count": null,
   "metadata": {},
   "outputs": [],
   "source": [
    "import pandas as pd\n",
    "import numpy as np\n",
    "import csv\n",
    "import matplotlib.pyplot as plt\n",
    "import palettable as pal"
   ]
  },
  {
   "cell_type": "code",
   "execution_count": null,
   "metadata": {},
   "outputs": [],
   "source": [
    "cmaps = OrderedDict()"
   ]
  },
  {
   "cell_type": "code",
   "execution_count": null,
   "metadata": {},
   "outputs": [],
   "source": [
    "df = pd.DataFrame()"
   ]
  },
  {
   "cell_type": "code",
   "execution_count": null,
   "metadata": {},
   "outputs": [],
   "source": [
    "with open(\"2020 Outages.csv\") as f:\n",
    "    df = pd.read_csv(f)"
   ]
  },
  {
   "cell_type": "code",
   "execution_count": null,
   "metadata": {},
   "outputs": [],
   "source": [
    "months = {'1': 'January', '2': 'February', '3': 'March', '4': 'April', '5': 'May', '6': 'June', '7': 'July', '8': 'August', '9': 'September', '10': 'October', '11': 'November', '12': 'December'}"
   ]
  },
  {
   "cell_type": "code",
   "execution_count": null,
   "metadata": {},
   "outputs": [],
   "source": [
    "sum(df['SAIDI'])"
   ]
  },
  {
   "cell_type": "code",
   "execution_count": null,
   "metadata": {},
   "outputs": [],
   "source": [
    "df['Cause'].fillna(0)"
   ]
  },
  {
   "cell_type": "code",
   "execution_count": null,
   "metadata": {},
   "outputs": [],
   "source": [
    "mask = df['Cause'].isna()\n",
    "df.loc[mask, :] = 'Undetermined'"
   ]
  },
  {
   "cell_type": "code",
   "execution_count": null,
   "metadata": {},
   "outputs": [],
   "source": [
    "cause_set = set(df['Cause'])"
   ]
  },
  {
   "cell_type": "code",
   "execution_count": null,
   "metadata": {},
   "outputs": [],
   "source": [
    "month = input(\"Enter the number for the Month: \")"
   ]
  },
  {
   "cell_type": "code",
   "execution_count": null,
   "metadata": {},
   "outputs": [],
   "source": [
    "df2 = df\n",
    "mask = []\n",
    "for i, cause in enumerate(df2['Outage Date']):\n",
    "    if cause[:2] == '12':\n",
    "        mask.append(True)\n",
    "    else:\n",
    "        mask.append(False)"
   ]
  },
  {
   "cell_type": "code",
   "execution_count": null,
   "metadata": {},
   "outputs": [],
   "source": [
    "df2 = df2.loc[mask, :]\n",
    "df2 = df2.reset_index(drop=True)"
   ]
  },
  {
   "cell_type": "code",
   "execution_count": null,
   "metadata": {},
   "outputs": [],
   "source": [
    "labels = list(cause_set)\n",
    "SAIDI_cause = []\n",
    "for label in labels:\n",
    "    idx = df2.index[df2['Cause'] == label].tolist()\n",
    "    SAIDI_cause.append(sum(df2['SAIDI'][idx]))\n",
    "cause_dict = {labels[i]: SAIDI_cause[i] for i in range(len(labels))}\n",
    "sorted_cause = {k: v for k, v in sorted(cause_dict.items(), key = lambda item: item[1], reverse=True)}"
   ]
  },
  {
   "cell_type": "code",
   "execution_count": null,
   "metadata": {},
   "outputs": [],
   "source": [
    "other_values = 0\n",
    "dict_del = []\n",
    "for key in sorted_cause:\n",
    "    if sorted_cause[key]/sum(list(sorted_cause.values())) < .03:  #Set what % to not include\n",
    "        other_values = other_values + sorted_cause[key]\n",
    "        dict_del.append(key)\n",
    "for key in dict_del:\n",
    "    del sorted_cause[key]\n",
    "sorted_cause.update({\"Other\": other_values})"
   ]
  },
  {
   "cell_type": "code",
   "execution_count": null,
   "metadata": {},
   "outputs": [],
   "source": [
    "mask = []\n",
    "dmg_equip = df2\n",
    "for i, cause in enumerate(dmg_equip['Cause']):\n",
    "    if cause == 'Device/Equipment Damaged':\n",
    "        mask.append(True)\n",
    "    else:\n",
    "        mask.append(False)\n",
    "dmg_equip = dmg_equip.loc[mask, :]\n",
    "dmg_equip = dmg_equip.reset_index(drop=True)"
   ]
  },
  {
   "cell_type": "code",
   "execution_count": null,
   "metadata": {},
   "outputs": [],
   "source": [
    "device_set = set(dmg_equip['Damaged Device'])\n",
    "device_list = list(device_set)\n",
    "SAIDI_device = []\n",
    "for label in device_list:\n",
    "    idx = dmg_equip.index[dmg_equip['Damaged Device'] == label].tolist()\n",
    "    SAIDI_device.append(sum(dmg_equip['SAIDI'][idx]))\n",
    "device_dict = {device_list[i]: SAIDI_device[i] for i in range(len(device_list))}\n",
    "sorted_device = {k: v for k, v in sorted(device_dict.items(), key = lambda item: item[1], reverse=True)}"
   ]
  },
  {
   "cell_type": "code",
   "execution_count": null,
   "metadata": {},
   "outputs": [],
   "source": [
    "other_values = 0\n",
    "dict_del = []\n",
    "for key in sorted_device:\n",
    "    if sorted_device[key]/sum(list(sorted_device.values())) < .03:  #Set what % to not include\n",
    "        other_values = other_values + sorted_device[key]\n",
    "        dict_del.append(key)\n",
    "for key in dict_del:\n",
    "    del sorted_device[key]\n",
    "sorted_device.update({\"Other\": other_values})"
   ]
  },
  {
   "cell_type": "code",
   "execution_count": null,
   "metadata": {},
   "outputs": [],
   "source": [
    "sorted_device"
   ]
  },
  {
   "cell_type": "code",
   "execution_count": null,
   "metadata": {},
   "outputs": [],
   "source": [
    "def func(pct, allvals):\n",
    "    absolute = float(pct/100.*np.sum(allvals))\n",
    "    return \"{:.3f}\\n({:.1f}%)\".format(absolute, pct) #Change how many decimals appear here"
   ]
  },
  {
   "cell_type": "code",
   "execution_count": null,
   "metadata": {},
   "outputs": [],
   "source": [
    "fig, ax = plt.subplots(figsize=(20, 18), subplot_kw=dict(aspect=\"equal\"))\n",
    "explode = np.zeros(len(list(sorted_cause.values())))\n",
    "explode[0] = 0.05\n",
    "patches, texts, autotexts = plt.pie(list(sorted_cause.values()), autopct = lambda pct: func(pct, list(sorted_cause.values())), \n",
    "                                    labels = list(sorted_cause.keys()), textprops={'size': 'large'}, explode=explode, \n",
    "                                    colors=pal.cartocolors.qualitative.Antique_10.mpl_colors, startangle = 90, shadow=True)\n",
    "#plt.legend(patches, list(sorted_cause.keys()), loc=\"upper left\", prop={'size': 12})\n",
    "#plt.tight_layout()\n",
    "plt.setp(autotexts, size=16)\n",
    "for i in range(len(texts)):\n",
    "    texts[i].set_fontsize(16)\n",
    "    texts[i].set_weight('bold')\n",
    "title_str = months[month] + \" Outage Cause Contribution\"\n",
    "ax.set_title(title_str, fontsize = 32, weight='bold')\n",
    "plt.show"
   ]
  },
  {
   "cell_type": "code",
   "execution_count": null,
   "metadata": {},
   "outputs": [],
   "source": [
    "fig, ax = plt.subplots(figsize=(20, 18), subplot_kw=dict(aspect=\"equal\"))\n",
    "explode = np.zeros(len(list(sorted_device.values())))\n",
    "explode[0] = 0.05\n",
    "patches, texts, autotexts = plt.pie(list(sorted_device.values()), \n",
    "                                    autopct = lambda pct: func(pct, list(sorted_device.values())), \n",
    "                                    labels = list(sorted_device.keys()), textprops={'size': 'large'}, \n",
    "                                    colors=pal.cartocolors.qualitative.Antique_10.mpl_colors, startangle = 90,\n",
    "                                    explode = explode, shadow = True)\n",
    "#plt.legend(patches, list(sorted_device.keys()), loc=\"upper left\", prop={'size': 12})\n",
    "#plt.tight_layout()\n",
    "plt.setp(autotexts, size=16)\n",
    "for i in range(len(texts)):\n",
    "    texts[i].set_fontsize(16)\n",
    "    texts[i].set_weight('bold')\n",
    "title_str = months[month] + \" Damaged Device Contribution\"\n",
    "ax.set_title(title_str, fontsize = 32, weight='bold')\n",
    "plt.show"
   ]
  },
  {
   "cell_type": "code",
   "execution_count": null,
   "metadata": {},
   "outputs": [],
   "source": []
  }
 ],
 "metadata": {
  "kernelspec": {
   "display_name": "Python 3",
   "language": "python",
   "name": "python3"
  },
  "language_info": {
   "codemirror_mode": {
    "name": "ipython",
    "version": 3
   },
   "file_extension": ".py",
   "mimetype": "text/x-python",
   "name": "python",
   "nbconvert_exporter": "python",
   "pygments_lexer": "ipython3",
   "version": "3.7.4"
  }
 },
 "nbformat": 4,
 "nbformat_minor": 2
}
